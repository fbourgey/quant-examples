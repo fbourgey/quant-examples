{
 "cells": [
  {
   "cell_type": "markdown",
   "id": "d3771056",
   "metadata": {},
   "source": [
    "We study Lévy's construction of a Brownian motion."
   ]
  },
  {
   "cell_type": "markdown",
   "id": "6a0e8984",
   "metadata": {},
   "source": []
  }
 ],
 "metadata": {
  "language_info": {
   "name": "python"
  }
 },
 "nbformat": 4,
 "nbformat_minor": 5
}

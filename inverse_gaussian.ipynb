{
 "cells": [
  {
   "cell_type": "markdown",
   "id": "6b304862",
   "metadata": {},
   "source": [
    "---\n",
    "\n",
    "We study the inverse Gaussian distribution.\n",
    "\n",
    "Let $X \\sim \\text{IG}(\\mu, \\lambda)$ be an inverse Gaussian random variable \n",
    "with parameters $\\mu > 0$ and $\\lambda > 0$. The probability density function \n",
    "(PDF) of $X$ is given by:\n",
    "\n",
    "$$\n",
    "f_X(x; \\mu, \\lambda) = \\sqrt{\\frac{\\lambda}{2\\pi x^3}} \\exp\\left(-\\frac{\\lambda (x - \\mu)^2}{2\\mu^2 x}\\right), \\quad x > 0.\n",
    "$$\n",
    "\n",
    "\n",
    "- Link with Brownian motion:\n",
    "\n",
    "Define $X_t = \\mu t + \\sigma W_t$, where $W_t$ is a standard Brownian motion.\n",
    "\n",
    "The first passage time $T_\\alpha$ to a level $\\alpha > 0$ is given by:\n",
    "\n",
    "$$\n",
    "T_\\alpha = \\inf\\{t > 0 \\mid X_t = \\alpha\\}.\n",
    "$$\n",
    "\n",
    "Then, $T_\\alpha$ follows an inverse Gaussian distribution:\n",
    "\n",
    "$$\n",
    "T_\\alpha \\sim \\text{IG}\\left(\\frac{\\alpha}{\\nu}, \\frac{\\alpha^2}{\\sigma^2}\\right)\n",
    "$$\n",
    "\n",
    "---"
   ]
  },
  {
   "cell_type": "code",
   "execution_count": null,
   "id": "a3badf76",
   "metadata": {},
   "outputs": [],
   "source": [
    "# TODO: simulate"
   ]
  },
  {
   "cell_type": "code",
   "execution_count": null,
   "id": "1dc006bc",
   "metadata": {},
   "outputs": [],
   "source": []
  }
 ],
 "metadata": {
  "language_info": {
   "name": "python"
  }
 },
 "nbformat": 4,
 "nbformat_minor": 5
}
